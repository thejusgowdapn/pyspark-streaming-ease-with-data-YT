{
 "cells": [
  {
   "cell_type": "code",
   "execution_count": 1,
   "id": "a4d9251b-2a38-49f4-818c-f451db093992",
   "metadata": {},
   "outputs": [
    {
     "data": {
      "text/html": [
       "\n",
       "            <div>\n",
       "                <p><b>SparkSession - in-memory</b></p>\n",
       "                \n",
       "        <div>\n",
       "            <p><b>SparkContext</b></p>\n",
       "\n",
       "            <p><a href=\"http://db47bcde90e8:4040\">Spark UI</a></p>\n",
       "\n",
       "            <dl>\n",
       "              <dt>Version</dt>\n",
       "                <dd><code>v3.3.0</code></dd>\n",
       "              <dt>Master</dt>\n",
       "                <dd><code>local[*]</code></dd>\n",
       "              <dt>AppName</dt>\n",
       "                <dd><code>Reading from Sockets</code></dd>\n",
       "            </dl>\n",
       "        </div>\n",
       "        \n",
       "            </div>\n",
       "        "
      ],
      "text/plain": [
       "<pyspark.sql.session.SparkSession at 0x7b2c5147c520>"
      ]
     },
     "execution_count": 1,
     "metadata": {},
     "output_type": "execute_result"
    }
   ],
   "source": [
    "# Generate Spark Session\n",
    "from pyspark.sql import SparkSession\n",
    "\n",
    "spark = (\n",
    "    SparkSession\n",
    "    .builder\n",
    "    .appName(\"Reading from Sockets\")\n",
    "    .master(\"local[*]\")\n",
    "    .getOrCreate()\n",
    ")\n",
    "\n",
    "spark"
   ]
  },
  {
   "cell_type": "code",
   "execution_count": null,
   "id": "4748dcc0-dff2-4c0c-852f-6fe7c41cb23c",
   "metadata": {},
   "outputs": [],
   "source": []
  },
  {
   "cell_type": "code",
   "execution_count": 20,
   "id": "9fe80270-3a99-4411-92fa-6e179cf107ab",
   "metadata": {},
   "outputs": [],
   "source": [
    "# read input data \n",
    "df_raw = spark.readStream.format(\"socket\").option(\"host\",\"localhost\").option(\"port\",\"9999\").load(\"data/input/example.txt\")"
   ]
  },
  {
   "cell_type": "code",
   "execution_count": 21,
   "id": "3ffb6d85-3c17-4830-b632-dc2ef41ff00e",
   "metadata": {},
   "outputs": [
    {
     "name": "stdout",
     "output_type": "stream",
     "text": [
      "root\n",
      " |-- value: string (nullable = true)\n",
      "\n"
     ]
    }
   ],
   "source": [
    "df_raw.printSchema()"
   ]
  },
  {
   "cell_type": "code",
   "execution_count": 7,
   "id": "ec1c1368-12d5-4fd1-8732-b72998a63996",
   "metadata": {},
   "outputs": [
    {
     "name": "stdout",
     "output_type": "stream",
     "text": [
      "+--------------------+\n",
      "|               value|\n",
      "+--------------------+\n",
      "|simon had a dog a...|\n",
      "+--------------------+\n",
      "\n"
     ]
    }
   ],
   "source": [
    "#df_raw.show()"
   ]
  },
  {
   "cell_type": "code",
   "execution_count": 22,
   "id": "80de07ec-87ad-40f5-9261-95fc24ad7864",
   "metadata": {},
   "outputs": [],
   "source": [
    "# split the line into words\n",
    "from pyspark.sql.functions import split\n",
    "df_words = df_raw.withColumn(\"words\",split(\"value\",\" \"))"
   ]
  },
  {
   "cell_type": "code",
   "execution_count": 9,
   "id": "b217c8f9-985f-4318-a75b-1025388cee8e",
   "metadata": {},
   "outputs": [
    {
     "name": "stdout",
     "output_type": "stream",
     "text": [
      "+--------------------+--------------------+\n",
      "|               value|               words|\n",
      "+--------------------+--------------------+\n",
      "|simon had a dog a...|[simon, had, a, d...|\n",
      "+--------------------+--------------------+\n",
      "\n"
     ]
    }
   ],
   "source": [
    "#df_words.show()"
   ]
  },
  {
   "cell_type": "code",
   "execution_count": 23,
   "id": "2e686ccb-5122-4fc4-a539-5a425dfd8853",
   "metadata": {},
   "outputs": [],
   "source": [
    "# explode the list of words\n",
    "from pyspark.sql.functions import explode\n",
    "df_explode = df_words.withColumn(\"word\",explode(\"words\")).drop(\"value\",\"words\")"
   ]
  },
  {
   "cell_type": "code",
   "execution_count": 15,
   "id": "67951bd0-542c-48fe-b2a1-bdfd970a01eb",
   "metadata": {},
   "outputs": [
    {
     "name": "stdout",
     "output_type": "stream",
     "text": [
      "+-----+\n",
      "| word|\n",
      "+-----+\n",
      "|simon|\n",
      "|  had|\n",
      "|    a|\n",
      "|  dog|\n",
      "|  and|\n",
      "|    a|\n",
      "|  cat|\n",
      "|  the|\n",
      "|  dog|\n",
      "|  and|\n",
      "|  cat|\n",
      "| used|\n",
      "|   to|\n",
      "| love|\n",
      "|simon|\n",
      "+-----+\n",
      "\n"
     ]
    }
   ],
   "source": [
    "#df_explode.show()"
   ]
  },
  {
   "cell_type": "code",
   "execution_count": 24,
   "id": "ca0b8dcc-47c0-446f-86ec-29a0a1df8098",
   "metadata": {},
   "outputs": [],
   "source": [
    "# aggregate the words to generate count\n",
    "from pyspark.sql.functions import count,lit\n",
    "df_agg = df_explode.groupBy(\"word\").agg(count(lit(1)).alias(\"cnt\"))"
   ]
  },
  {
   "cell_type": "code",
   "execution_count": 19,
   "id": "5e6d96f2-9ed2-4cad-b487-e8c24231ba44",
   "metadata": {},
   "outputs": [
    {
     "name": "stdout",
     "output_type": "stream",
     "text": [
      "+-----+---+\n",
      "| word|cnt|\n",
      "+-----+---+\n",
      "| used|  1|\n",
      "|simon|  2|\n",
      "|  dog|  2|\n",
      "| love|  1|\n",
      "|  had|  1|\n",
      "|  cat|  2|\n",
      "|  the|  1|\n",
      "|  and|  2|\n",
      "|    a|  2|\n",
      "|   to|  1|\n",
      "+-----+---+\n",
      "\n"
     ]
    }
   ],
   "source": [
    "#df_agg.show()"
   ]
  },
  {
   "cell_type": "code",
   "execution_count": null,
   "id": "14361ccc-35ef-403f-925e-d7a116a6e186",
   "metadata": {},
   "outputs": [],
   "source": [
    "# write the output to console\n",
    "\n",
    "df_agg.writeStream.format(\"console\").outputMode(\"complete\").start().awaitTermination()"
   ]
  },
  {
   "cell_type": "code",
   "execution_count": null,
   "id": "35a6ab0a-367a-42a3-9b31-ca802d3af7c6",
   "metadata": {},
   "outputs": [],
   "source": []
  }
 ],
 "metadata": {
  "kernelspec": {
   "display_name": "Python 3 (ipykernel)",
   "language": "python",
   "name": "python3"
  },
  "language_info": {
   "codemirror_mode": {
    "name": "ipython",
    "version": 3
   },
   "file_extension": ".py",
   "mimetype": "text/x-python",
   "name": "python",
   "nbconvert_exporter": "python",
   "pygments_lexer": "ipython3",
   "version": "3.10.16"
  }
 },
 "nbformat": 4,
 "nbformat_minor": 5
}
